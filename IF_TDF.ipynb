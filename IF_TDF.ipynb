{
  "nbformat": 4,
  "nbformat_minor": 0,
  "metadata": {
    "colab": {
      "provenance": [],
      "authorship_tag": "ABX9TyPWrWikqI9sCnMNk6uUio+/",
      "include_colab_link": true
    },
    "kernelspec": {
      "name": "python3",
      "display_name": "Python 3"
    },
    "language_info": {
      "name": "python"
    }
  },
  "cells": [
    {
      "cell_type": "markdown",
      "metadata": {
        "id": "view-in-github",
        "colab_type": "text"
      },
      "source": [
        "<a href=\"https://colab.research.google.com/github/Darshan0902/EDUMITRA-./blob/main/IF_TDF.ipynb\" target=\"_parent\"><img src=\"https://colab.research.google.com/assets/colab-badge.svg\" alt=\"Open In Colab\"/></a>"
      ]
    },
    {
      "cell_type": "code",
      "execution_count": 2,
      "metadata": {
        "id": "CKu20gB4P6Mz"
      },
      "outputs": [],
      "source": [
        "import pandas as pd\n",
        "df = pd.read_csv(\"/content/MOCK_DATA (3).csv\")"
      ]
    },
    {
      "cell_type": "code",
      "source": [
        "import pandas as pd\n",
        "from sklearn.preprocessing import LabelEncoder\n",
        "from sklearn.model_selection import train_test_split\n",
        "from sklearn.feature_extraction.text import TfidfVectorizer\n",
        "from sklearn.metrics.pairwise import cosine_similarity"
      ],
      "metadata": {
        "id": "Y-CE86zTQiDh"
      },
      "execution_count": 7,
      "outputs": []
    },
    {
      "cell_type": "code",
      "source": [
        "import pandas as pd\n",
        "from sklearn.preprocessing import LabelEncoder\n",
        "from sklearn.model_selection import train_test_split\n",
        "from sklearn.feature_extraction.text import TfidfVectorizer\n",
        "from sklearn.metrics.pairwise import cosine_similarity\n",
        "\n",
        "# Assuming df is your DataFrame\n",
        "# df = pd.DataFrame(...)\n",
        "\n",
        "label_encoders = {}\n",
        "for col in ['CITY ', 'SKILLS', 'USER NAME']:\n",
        "    label_encoders[col] = LabelEncoder()\n",
        "    df[col] = label_encoders[col].fit_transform(df[col])\n",
        "\n",
        "df['SKILLS'] = label_encoders['SKILLS'].inverse_transform(df['SKILLS'])\n",
        "\n",
        "user_names_mapping = dict(zip(label_encoders['USER NAME'].transform(df['USER NAME']), df['USER NAME']))\n",
        "\n",
        "X = df.drop(columns=['USER NAME'])\n",
        "y = df['USER NAME']\n",
        "X_train, X_test, y_train, y_test = train_test_split(X, y, test_size=0.2, random_state=42)\n",
        "\n",
        "tfidf_vectorizer = TfidfVectorizer()\n",
        "skills_matrix = tfidf_vectorizer.fit_transform(df['SKILLS'])\n",
        "\n",
        "cosine_sim = cosine_similarity(skills_matrix, skills_matrix)\n",
        "\n",
        "def recommend_users(selected_skills):\n",
        "    selected_skills_vector = tfidf_vectorizer.transform([selected_skills])\n",
        "    cosine_sim_scores = cosine_similarity(selected_skills_vector, skills_matrix).flatten()\n",
        "    user_indices = cosine_sim_scores.argsort()[:-6:-1]  # Get top 5 most similar users\n",
        "    recommended_user_indices = df.iloc[user_indices]['USER NAME'].values\n",
        "    recommended_users = [user_names_mapping[user] for user in recommended_user_indices]\n",
        "    return recommended_users\n",
        "\n",
        "selected_skills = 'PHP'\n",
        "recommended_users = recommend_users(selected_skills)\n",
        "print(\"Recommended users for skills '{}':\".format(selected_skills))\n",
        "print(recommended_users)\n"
      ],
      "metadata": {
        "colab": {
          "base_uri": "https://localhost:8080/"
        },
        "id": "NLWd9y6RQY_E",
        "outputId": "ae732743-b3f4-41da-847e-99058fbc3d5c"
      },
      "execution_count": 9,
      "outputs": [
        {
          "output_type": "stream",
          "name": "stdout",
          "text": [
            "Recommended users for skills 'PHP':\n",
            "[4, 2, 19, 22, 18]\n"
          ]
        }
      ]
    },
    {
      "cell_type": "markdown",
      "source": [
        "# IDs showing."
      ],
      "metadata": {
        "id": "5KKVRlYYSjoW"
      }
    },
    {
      "cell_type": "code",
      "source": [
        "def recommend_users(selected_skills):\n",
        "    selected_skills_vector = tfidf_vectorizer.transform([selected_skills])\n",
        "    cosine_sim_scores = cosine_similarity(selected_skills_vector, skills_matrix).flatten()\n",
        "    user_indices = cosine_sim_scores.argsort()[:-6:-1]  # Get top 5 most similar users\n",
        "    recommended_user_indices = df.iloc[user_indices]['USER NAME'].values\n",
        "    recommended_user_names = [user_names_mapping[user] for user in recommended_user_indices]\n",
        "    return list(zip(user_indices, recommended_user_names))\n"
      ],
      "metadata": {
        "id": "vSUqGWPsRSKK"
      },
      "execution_count": 13,
      "outputs": []
    },
    {
      "cell_type": "code",
      "source": [
        "selected_skills = 'PHP'\n",
        "recommended_users = recommend_users(selected_skills)\n",
        "print(\"Recommended users for skills '{}':\".format(selected_skills))\n",
        "for user_id, user_name in recommended_users:\n",
        "    print(f\"{user_name} (ID: {user_id})\")\n"
      ],
      "metadata": {
        "colab": {
          "base_uri": "https://localhost:8080/"
        },
        "id": "TanSIjpUSKu2",
        "outputId": "eb921d85-154d-48af-c333-8b7a5d05f10a"
      },
      "execution_count": 14,
      "outputs": [
        {
          "output_type": "stream",
          "name": "stdout",
          "text": [
            "Recommended users for skills 'PHP':\n",
            "4 (ID: 427)\n",
            "2 (ID: 323)\n",
            "19 (ID: 605)\n",
            "22 (ID: 582)\n",
            "18 (ID: 715)\n"
          ]
        }
      ]
    },
    {
      "cell_type": "markdown",
      "source": [
        "# Names testing :"
      ],
      "metadata": {
        "id": "UtIRqhuUSmqv"
      }
    },
    {
      "cell_type": "code",
      "source": [
        "def recommend_users(selected_skills):\n",
        "    selected_skills_vector = tfidf_vectorizer.transform([selected_skills])\n",
        "    cosine_sim_scores = cosine_similarity(selected_skills_vector, skills_matrix).flatten()\n",
        "    user_indices = cosine_sim_scores.argsort()[:-6:-1]  # Get top 5 most similar users\n",
        "    recommended_user_names = df.iloc[user_indices]['USER NAME'].values\n",
        "    return list(zip(recommended_user_names, cosine_sim_scores[user_indices]))\n",
        "\n",
        "selected_skills = 'PHP'\n",
        "recommended_users = recommend_users(selected_skills)\n",
        "print(\"Recommended users for skills '{}':\".format(selected_skills))\n",
        "for user_name, similarity_score in recommended_users:\n",
        "    print(f\"User Name: {user_name}, Similarity Score: {similarity_score}\")\n"
      ],
      "metadata": {
        "colab": {
          "base_uri": "https://localhost:8080/"
        },
        "id": "xWFVNG-7UB56",
        "outputId": "14a573d0-5353-4b48-cc33-9fc4cee2b429"
      },
      "execution_count": 23,
      "outputs": [
        {
          "output_type": "stream",
          "name": "stdout",
          "text": [
            "Recommended users for skills 'PHP':\n",
            "User Name: 4, Similarity Score: 1.0\n",
            "User Name: 2, Similarity Score: 1.0\n",
            "User Name: 19, Similarity Score: 1.0\n",
            "User Name: 22, Similarity Score: 1.0\n",
            "User Name: 18, Similarity Score: 1.0\n"
          ]
        }
      ]
    },
    {
      "cell_type": "markdown",
      "source": [
        "# New Code testing 🐾\n"
      ],
      "metadata": {
        "id": "_6Mi7chgalkM"
      }
    },
    {
      "cell_type": "code",
      "source": [],
      "metadata": {
        "id": "hoEINrmJU9YV"
      },
      "execution_count": null,
      "outputs": []
    }
  ]
}