{
  "nbformat": 4,
  "nbformat_minor": 0,
  "metadata": {
    "colab": {
      "provenance": [],
      "authorship_tag": "ABX9TyPKZIape+tLo3o16zzShU1x",
      "include_colab_link": true
    },
    "kernelspec": {
      "name": "python3",
      "display_name": "Python 3"
    },
    "language_info": {
      "name": "python"
    }
  },
  "cells": [
    {
      "cell_type": "markdown",
      "metadata": {
        "id": "view-in-github",
        "colab_type": "text"
      },
      "source": [
        "<a href=\"https://colab.research.google.com/github/Darshan0902/EDUMITRA-./blob/main/IF_TDF.ipynb\" target=\"_parent\"><img src=\"https://colab.research.google.com/assets/colab-badge.svg\" alt=\"Open In Colab\"/></a>"
      ]
    },
    {
      "cell_type": "code",
      "execution_count": null,
      "metadata": {
        "id": "CKu20gB4P6Mz"
      },
      "outputs": [],
      "source": [
        "import pandas as pd\n",
        "df = pd.read_csv(\"/content/MOCK_DATA (3).csv\")"
      ]
    },
    {
      "cell_type": "code",
      "source": [
        "import pandas as pd\n",
        "from sklearn.preprocessing import LabelEncoder\n",
        "from sklearn.model_selection import train_test_split\n",
        "from sklearn.feature_extraction.text import TfidfVectorizer\n",
        "from sklearn.metrics.pairwise import cosine_similarity"
      ],
      "metadata": {
        "id": "Y-CE86zTQiDh"
      },
      "execution_count": null,
      "outputs": []
    },
    {
      "cell_type": "code",
      "source": [
        "import pandas as pd\n",
        "from sklearn.preprocessing import LabelEncoder\n",
        "from sklearn.model_selection import train_test_split\n",
        "from sklearn.feature_extraction.text import TfidfVectorizer\n",
        "from sklearn.metrics.pairwise import cosine_similarity\n",
        "\n",
        "# Assuming df is your DataFrame\n",
        "# df = pd.DataFrame(...)\n",
        "\n",
        "label_encoders = {}\n",
        "for col in ['CITY ', 'SKILLS', 'USER NAME']:\n",
        "    label_encoders[col] = LabelEncoder()\n",
        "    df[col] = label_encoders[col].fit_transform(df[col])\n",
        "\n",
        "df['SKILLS'] = label_encoders['SKILLS'].inverse_transform(df['SKILLS'])\n",
        "\n",
        "user_names_mapping = dict(zip(label_encoders['USER NAME'].transform(df['USER NAME']), df['USER NAME']))\n",
        "\n",
        "X = df.drop(columns=['USER NAME'])\n",
        "y = df['USER NAME']\n",
        "X_train, X_test, y_train, y_test = train_test_split(X, y, test_size=0.2, random_state=42)\n",
        "\n",
        "tfidf_vectorizer = TfidfVectorizer()\n",
        "skills_matrix = tfidf_vectorizer.fit_transform(df['SKILLS'])\n",
        "\n",
        "cosine_sim = cosine_similarity(skills_matrix, skills_matrix)\n",
        "\n",
        "def recommend_users(selected_skills):\n",
        "    selected_skills_vector = tfidf_vectorizer.transform([selected_skills])\n",
        "    cosine_sim_scores = cosine_similarity(selected_skills_vector, skills_matrix).flatten()\n",
        "    user_indices = cosine_sim_scores.argsort()[:-6:-1]  # Get top 5 most similar users\n",
        "    recommended_user_indices = df.iloc[user_indices]['USER NAME'].values\n",
        "    recommended_users = [user_names_mapping[user] for user in recommended_user_indices]\n",
        "    return recommended_users\n",
        "\n",
        "selected_skills = 'PHP'\n",
        "recommended_users = recommend_users(selected_skills)\n",
        "print(\"Recommended users for skills '{}':\".format(selected_skills))\n",
        "print(recommended_users)\n"
      ],
      "metadata": {
        "colab": {
          "base_uri": "https://localhost:8080/"
        },
        "id": "NLWd9y6RQY_E",
        "outputId": "ae732743-b3f4-41da-847e-99058fbc3d5c"
      },
      "execution_count": null,
      "outputs": [
        {
          "output_type": "stream",
          "name": "stdout",
          "text": [
            "Recommended users for skills 'PHP':\n",
            "[4, 2, 19, 22, 18]\n"
          ]
        }
      ]
    },
    {
      "cell_type": "markdown",
      "source": [
        "# IDs showing."
      ],
      "metadata": {
        "id": "5KKVRlYYSjoW"
      }
    },
    {
      "cell_type": "code",
      "source": [
        "def recommend_users(selected_skills):\n",
        "    selected_skills_vector = tfidf_vectorizer.transform([selected_skills])\n",
        "    cosine_sim_scores = cosine_similarity(selected_skills_vector, skills_matrix).flatten()\n",
        "    user_indices = cosine_sim_scores.argsort()[:-6:-1]  # Get top 5 most similar users\n",
        "    recommended_user_indices = df.iloc[user_indices]['USER NAME'].values\n",
        "    recommended_user_names = [user_names_mapping[user] for user in recommended_user_indices]\n",
        "    return list(zip(user_indices, recommended_user_names))\n"
      ],
      "metadata": {
        "id": "vSUqGWPsRSKK"
      },
      "execution_count": null,
      "outputs": []
    },
    {
      "cell_type": "code",
      "source": [
        "selected_skills = 'PHP'\n",
        "recommended_users = recommend_users(selected_skills)\n",
        "print(\"Recommended users for skills '{}':\".format(selected_skills))\n",
        "for user_id, user_name in recommended_users:\n",
        "    print(f\"{user_name} (ID: {user_id})\")\n"
      ],
      "metadata": {
        "colab": {
          "base_uri": "https://localhost:8080/"
        },
        "id": "TanSIjpUSKu2",
        "outputId": "eb921d85-154d-48af-c333-8b7a5d05f10a"
      },
      "execution_count": null,
      "outputs": [
        {
          "output_type": "stream",
          "name": "stdout",
          "text": [
            "Recommended users for skills 'PHP':\n",
            "4 (ID: 427)\n",
            "2 (ID: 323)\n",
            "19 (ID: 605)\n",
            "22 (ID: 582)\n",
            "18 (ID: 715)\n"
          ]
        }
      ]
    },
    {
      "cell_type": "markdown",
      "source": [
        "# Names testing :"
      ],
      "metadata": {
        "id": "UtIRqhuUSmqv"
      }
    },
    {
      "cell_type": "code",
      "source": [
        "def recommend_users(selected_skills):\n",
        "    selected_skills_vector = tfidf_vectorizer.transform([selected_skills])\n",
        "    cosine_sim_scores = cosine_similarity(selected_skills_vector, skills_matrix).flatten()\n",
        "    user_indices = cosine_sim_scores.argsort()[:-6:-1]  # Get top 5 most similar users\n",
        "    recommended_user_names = df.iloc[user_indices]['USER NAME'].values\n",
        "    return list(zip(recommended_user_names, cosine_sim_scores[user_indices]))\n",
        "\n",
        "selected_skills = 'PHP'\n",
        "recommended_users = recommend_users(selected_skills)\n",
        "print(\"Recommended users for skills '{}':\".format(selected_skills))\n",
        "for user_name, similarity_score in recommended_users:\n",
        "    print(f\"User Name: {user_name}, Similarity Score: {similarity_score}\")\n"
      ],
      "metadata": {
        "colab": {
          "base_uri": "https://localhost:8080/"
        },
        "id": "xWFVNG-7UB56",
        "outputId": "14a573d0-5353-4b48-cc33-9fc4cee2b429"
      },
      "execution_count": null,
      "outputs": [
        {
          "output_type": "stream",
          "name": "stdout",
          "text": [
            "Recommended users for skills 'PHP':\n",
            "User Name: 4, Similarity Score: 1.0\n",
            "User Name: 2, Similarity Score: 1.0\n",
            "User Name: 19, Similarity Score: 1.0\n",
            "User Name: 22, Similarity Score: 1.0\n",
            "User Name: 18, Similarity Score: 1.0\n"
          ]
        }
      ]
    },
    {
      "cell_type": "markdown",
      "source": [
        "# New Code testing 🐾\n"
      ],
      "metadata": {
        "id": "_6Mi7chgalkM"
      }
    },
    {
      "cell_type": "code",
      "source": [
        "import pandas as pd\n",
        "from sklearn.preprocessing import LabelEncoder\n",
        "from sklearn.model_selection import train_test_split\n",
        "from sklearn.feature_extraction.text import TfidfVectorizer\n",
        "from sklearn.neighbors import NearestNeighbors\n",
        "\n",
        "# Assuming df is the DataFrame containing the data\n",
        "\n",
        "# Encode categorical variables\n",
        "label_encoders = {}\n",
        "for col in ['CITY ', 'SKILLS', 'USER NAME']:\n",
        "    label_encoders[col] = LabelEncoder()\n",
        "    df[col] = label_encoders[col].fit_transform(df[col])\n",
        "\n",
        "# Convert integer labels back to skill names\n",
        "df['SKILLS'] = label_encoders['SKILLS'].inverse_transform(df['SKILLS'])\n",
        "\n",
        "# Store original user names along with encoded counterparts\n",
        "user_names_mapping = dict(zip(df['USER NAME'], df['USER NAME']))\n",
        "\n",
        "# Split data into train and test sets\n",
        "X = df.drop(columns=['USER NAME'])\n",
        "y = df['USER NAME']\n",
        "X_train, X_test, y_train, y_test = train_test_split(X, y, test_size=0.2, random_state=42)\n",
        "\n",
        "# Create TF-IDF vectorizer for skills\n",
        "tfidf_vectorizer = TfidfVectorizer()\n",
        "skills_matrix = tfidf_vectorizer.fit_transform(df['SKILLS'])\n",
        "\n",
        "# Train a k-nearest neighbors model\n",
        "k = 5  # Number of neighbors to consider\n",
        "knn_model = NearestNeighbors(n_neighbors=k, metric='cosine')\n",
        "knn_model.fit(skills_matrix)\n",
        "\n",
        "# Function to recommend users based on selected skills using KNN\n",
        "def recommend_users_knn(selected_skills):\n",
        "    selected_skills_vector = tfidf_vectorizer.transform([selected_skills])\n",
        "    _, user_indices = knn_model.kneighbors(selected_skills_vector)\n",
        "    recommended_user_indices = df.iloc[user_indices[0]]['USER NAME'].values\n",
        "    recommended_users = [user_names_mapping[user] for user in recommended_user_indices]\n",
        "    return recommended_users\n",
        "\n",
        "# Example usage:\n",
        "selected_skills = 'PHP'\n",
        "recommended_users = recommend_users_knn(selected_skills)\n",
        "print(\"Recommended users for skills '{}':\".format(selected_skills))\n",
        "print(recommended_users)\n"
      ],
      "metadata": {
        "colab": {
          "base_uri": "https://localhost:8080/"
        },
        "id": "hoEINrmJU9YV",
        "outputId": "6115a545-2cf7-484a-fd6a-3273798759c2"
      },
      "execution_count": null,
      "outputs": [
        {
          "output_type": "stream",
          "name": "stdout",
          "text": [
            "Recommended users for skills 'PHP':\n",
            "[19, 14, 14, 18, 3]\n"
          ]
        }
      ]
    },
    {
      "cell_type": "code",
      "source": [],
      "metadata": {
        "colab": {
          "base_uri": "https://localhost:8080/"
        },
        "id": "0ndVxWavbjgF",
        "outputId": "530130f1-e1cf-4ca7-a0e9-f88ef8a36c8b"
      },
      "execution_count": null,
      "outputs": [
        {
          "output_type": "stream",
          "name": "stdout",
          "text": [
            "Recommended users for skills 'PHP':\n",
            "[19, 14, 14, 18, 3]\n"
          ]
        }
      ]
    },
    {
      "cell_type": "markdown",
      "source": [
        "# 23-02-2024 ❎"
      ],
      "metadata": {
        "id": "eru3_neiJr_j"
      }
    },
    {
      "cell_type": "code",
      "source": [
        "import pandas as pd\n",
        "from sklearn.feature_extraction.text import CountVectorizer\n",
        "from sklearn.metrics.pairwise import cosine_similarity"
      ],
      "metadata": {
        "id": "O7_pDDlShkJZ"
      },
      "execution_count": 1,
      "outputs": []
    },
    {
      "cell_type": "code",
      "source": [
        "df = pd.read_csv(\"/content/MOCK_DATA.csv\")"
      ],
      "metadata": {
        "id": "osl-IdibJ_0p"
      },
      "execution_count": 3,
      "outputs": []
    },
    {
      "cell_type": "code",
      "source": [
        "from collections import defaultdict\n",
        "\n",
        "# Create a dictionary to store users indexed by their skills\n",
        "users_by_skill = defaultdict(list)\n",
        "for _, row in df.iterrows():\n",
        "    users_by_skill[row['Skills']].append(row['id'])\n",
        "\n",
        "# Function to recommend users based on common skills\n",
        "def recommend_users_for_skill(skill):\n",
        "    # Find users who have the specified skill\n",
        "    users_with_skill = users_by_skill.get(skill, [])\n",
        "    return users_with_skill\n",
        "\n",
        "# Get user input for skill\n",
        "selected_skill = input(\"Select your skill: \")\n",
        "\n",
        "# Get recommended users for the selected skill\n",
        "recommended_user_ids = recommend_users_for_skill(selected_skill)\n",
        "recommended_users_info = df[df['id'].isin(recommended_user_ids)][['id', 'first_name', 'email', 'gender']]\n",
        "\n",
        "# Print recommended users\n",
        "if not recommended_users_info.empty:\n",
        "    print(f\"Users with skill '{selected_skill}':\")\n",
        "    print(recommended_users_info)\n",
        "else:\n",
        "    print(f\"No users found with skill '{selected_skill}'.\")\n"
      ],
      "metadata": {
        "colab": {
          "base_uri": "https://localhost:8080/"
        },
        "id": "XYg-6mvcJrSt",
        "outputId": "83469b83-3fbc-4433-ef6a-d42ebf0fad8b"
      },
      "execution_count": 8,
      "outputs": [
        {
          "output_type": "stream",
          "name": "stdout",
          "text": [
            "Select your skill: R\n",
            "Users with skill 'R':\n",
            "      id  first_name                           email   gender\n",
            "8      9      Amelie              arivenzon8@epa.gov   Female\n",
            "73    74       Randi                rruddom21@wp.com     Male\n",
            "92    93   Melisande        mtilliards2k@myspace.com   Female\n",
            "112  113       Rodie    rtuckett34@independent.co.uk   Female\n",
            "127  128        Niel             njacquemot3j@a8.net     Male\n",
            "267  268       Kathy               knoen7f@topsy.com   Female\n",
            "300  301     Marleah         mmacari8c@amazonaws.com   Female\n",
            "342  343        Lori       ltimpany9i@craigslist.org   Female\n",
            "360  361       Golda               gblasea0@ehow.com   Female\n",
            "392  393   Nathanael               nrosseyaw@aol.com     Male\n",
            "395  396     Emelyne       etyghtaz@wunderground.com   Female\n",
            "446  447        Dory         dedysonce@aboutads.info     Male\n",
            "537  538      Sigrid               smcroryex@epa.gov   Female\n",
            "573  574     Rosalyn            rtraytefx@weebly.com   Female\n",
            "574  575      Shelba           swhathamfy@eepurl.com  Agender\n",
            "611  612     Orlando          obiddellgz@example.com     Male\n",
            "621  622       Ozzie        oalphonsoh9@edublogs.org     Male\n",
            "628  629     Winston             wnarramorhg@ask.com     Male\n",
            "653  654       Amara          adonaldsoni5@prlog.org   Female\n",
            "686  687        Niki  ncollettj2@constantcontact.com   Female\n",
            "694  695     Maurise        mblanketja@wordpress.org     Male\n",
            "699  700     Ingunna            itemplarjf@wikia.com   Female\n",
            "703  704      Aeriel        awolseyjj@craigslist.org   Female\n",
            "725  726      Lucais              ljenmank5@java.com     Male\n",
            "760  761  Montgomery          mtanseyl4@addtoany.com     Male\n",
            "798  799       Omero         ogeipelm6@bigcartel.com     Male\n",
            "808  809     Dorelle             dtarbattmg@ucsd.edu   Female\n",
            "824  825      Margie              mtumbridgemw@is.gd   Female\n",
            "852  853     Ranique           rmcgillreichno@ed.gov   Female\n",
            "876  877     Isidore        icolletoc@wikispaces.com     Male\n",
            "889  890         Cob        cjesperop@feedburner.com     Male\n",
            "941  942    Sergeant          sstillyq5@google.co.uk     Male\n",
            "952  953     Iseabal            iquantqg@myspace.com   Female\n",
            "973  974    Kingsley             kwoodr1@squidoo.com     Male\n",
            "986  987        Jere         jborleyre@goodreads.com     Male\n"
          ]
        }
      ]
    },
    {
      "cell_type": "code",
      "source": [],
      "metadata": {
        "id": "veAF7XdKJ-P0"
      },
      "execution_count": null,
      "outputs": []
    }
  ]
}