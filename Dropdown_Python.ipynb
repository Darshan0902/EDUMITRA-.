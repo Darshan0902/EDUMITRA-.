{
  "nbformat": 4,
  "nbformat_minor": 0,
  "metadata": {
    "colab": {
      "provenance": []
    },
    "kernelspec": {
      "name": "python3",
      "display_name": "Python 3"
    },
    "language_info": {
      "name": "python"
    }
  },
  "cells": [
    {
      "cell_type": "code",
      "execution_count": 44,
      "metadata": {
        "id": "rVCaBmjgxQUe"
      },
      "outputs": [],
      "source": [
        "import numpy as np"
      ]
    },
    {
      "cell_type": "code",
      "source": [
        "import pandas as pd"
      ],
      "metadata": {
        "id": "6eEjHmWmyNcB"
      },
      "execution_count": 45,
      "outputs": []
    },
    {
      "cell_type": "code",
      "source": [
        "data = pd.read_csv(\"/content/MOCK_DATA (3).csv\")"
      ],
      "metadata": {
        "id": "pSve8GgHyO92"
      },
      "execution_count": 52,
      "outputs": []
    },
    {
      "cell_type": "code",
      "source": [
        "print(data.columns)\n"
      ],
      "metadata": {
        "colab": {
          "base_uri": "https://localhost:8080/"
        },
        "id": "O_QrvkWJz2k8",
        "outputId": "4530c4d9-0353-4274-88df-cda50b35de10"
      },
      "execution_count": 47,
      "outputs": [
        {
          "output_type": "stream",
          "name": "stdout",
          "text": [
            "Index(['CITY ', 'SKILLS', 'USER NAME'], dtype='object')\n"
          ]
        }
      ]
    },
    {
      "cell_type": "code",
      "source": [
        "def recommend_users(data, user_city, user_skill):\n",
        "    # Filter data based on user's city and skill\n",
        "    filtered_data = data[(data['CITY '] == user_city) & (data['SKILLS'] == user_skill)]\n",
        "\n",
        "    # Extract unique recommended user names\n",
        "    recommended_users = filtered_data['USER NAME'].unique()\n",
        "\n",
        "    if len(recommended_users) == 0:\n",
        "        return \"No users found with the specified criteria.\"\n",
        "    else:\n",
        "        return recommended_users\n",
        "\n",
        "# Example usage:\n",
        "user_city = input(\"Enter your city: \")\n",
        "user_skill = input(\"Enter your skill: \")\n",
        "\n",
        "recommended_users = recommend_users(data, user_city, user_skill)\n",
        "print(\"Recommended users:\", recommended_users)"
      ],
      "metadata": {
        "colab": {
          "base_uri": "https://localhost:8080/"
        },
        "id": "WvMiINdCz3yJ",
        "outputId": "193b8af4-e14e-4c47-8f9e-a003e7f751da"
      },
      "execution_count": null,
      "outputs": [
        {
          "output_type": "stream",
          "name": "stdout",
          "text": [
            "Enter your city: Powai\n",
            "Enter your skill: JavaScript\n",
            "Recommended users: ['Kavya' 'Yash' 'Krupa']\n"
          ]
        }
      ]
    },
    {
      "cell_type": "markdown",
      "source": [
        "# - PART 2 -"
      ],
      "metadata": {
        "id": "c4i2VAFB36Pt"
      }
    },
    {
      "cell_type": "code",
      "source": [
        "import pandas as pd\n",
        "import tkinter as tk\n",
        "from tkinter import ttk"
      ],
      "metadata": {
        "id": "dAISCHoN2e0W"
      },
      "execution_count": null,
      "outputs": []
    },
    {
      "cell_type": "code",
      "source": [
        "def recommend_users(data, user_city, user_skill):\n",
        "    # Remove leading and trailing whitespaces from column names\n",
        "    data.columns = data.columns.str.strip()\n",
        "\n",
        "    # Filter data based on user's city and skill\n",
        "    filtered_data = data[(data['CITY'] == user_city) & (data['SKILLS'] == user_skill)]\n",
        "\n",
        "    # Extract unique recommended user names\n",
        "    recommended_users = filtered_data['USER NAME'].unique()\n",
        "\n",
        "    if len(recommended_users) == 0:\n",
        "        return \"No users found with the specified criteria.\"\n",
        "    else:\n",
        "        return recommended_users\n"
      ],
      "metadata": {
        "id": "__BRkalI3_U2"
      },
      "execution_count": null,
      "outputs": []
    },
    {
      "cell_type": "code",
      "source": [
        "def on_button_click():\n",
        "    user_city = city_combobox.get()\n",
        "    user_skill = skill_combobox.get()\n",
        "    recommended_users = recommend_users(data, user_city, user_skill)\n",
        "    result_label.config(text=\"Recommended users: \" + \", \".join(recommended_users))"
      ],
      "metadata": {
        "id": "SFVlUb6q4BlV"
      },
      "execution_count": 48,
      "outputs": []
    },
    {
      "cell_type": "code",
      "source": [
        "import pandas as pd\n",
        "\n",
        "# Assuming 'data' is the DataFrame containing the provided data\n",
        "# Example:\n",
        "# data = pd.read_csv('your_data.csv')\n",
        "\n",
        "def recommend_users(data, user_city, user_skill):\n",
        "    # Remove leading and trailing whitespaces from column names\n",
        "    data.columns = data.columns.str.strip()\n",
        "\n",
        "    # Filter data based on user's city and skill\n",
        "    filtered_data = data[(data['CITY'] == user_city) & (data['SKILLS'] == user_skill)]\n",
        "\n",
        "    # Extract unique recommended user names\n",
        "    recommended_users = filtered_data['USER NAME'].unique()\n",
        "\n",
        "    if len(recommended_users) == 0:\n",
        "        return \"No users found with the specified criteria.\"\n",
        "    else:\n",
        "        return recommended_users\n",
        "\n",
        "def get_user_input():\n",
        "    print(\"Welcome to the User Recommendation System!\")\n",
        "    print(\"Select your city:\")\n",
        "    for i, city in enumerate(data['CITY '].unique(), 1):\n",
        "        print(f\"{i}. {city}\")\n",
        "    city_choice = int(input(\"Enter the number corresponding to your city: \"))\n",
        "    selected_city = data['CITY '].unique()[city_choice - 1]\n",
        "\n",
        "    print(\"\\nSelect your skill:\")\n",
        "    for i, skill in enumerate(data['SKILLS'].unique(), 1):\n",
        "        print(f\"{i}. {skill}\")\n",
        "    skill_choice = int(input(\"Enter the number corresponding to your skill: \"))\n",
        "    selected_skill = data['SKILLS'].unique()[skill_choice - 1]\n",
        "\n",
        "    return selected_city, selected_skill\n",
        "\n",
        "def main():\n",
        "    user_city, user_skill = get_user_input()\n",
        "    recommended_users = recommend_users(data, user_city, user_skill)\n",
        "    print(\"\\nRecommended users:\", recommended_users)\n",
        "\n",
        "if __name__ == \"__main__\":\n",
        "    main()\n"
      ],
      "metadata": {
        "colab": {
          "base_uri": "https://localhost:8080/"
        },
        "id": "MfdJT3Zq4D4O",
        "outputId": "aa8ffcd4-2b66-436e-a384-f1d481b14536"
      },
      "execution_count": 53,
      "outputs": [
        {
          "output_type": "stream",
          "name": "stdout",
          "text": [
            "Welcome to the User Recommendation System!\n",
            "Select your city:\n",
            "1. Dadar\n",
            "2. Malad\n",
            "3. Powai\n",
            "4. Andheri\n",
            "5. Juhu\n",
            "6. Khar\n",
            "7. Santacruz\n",
            "8. Goregaon\n",
            "9. Bandra\n",
            "10. Colaba\n",
            "Enter the number corresponding to your city: 1\n",
            "\n",
            "Select your skill:\n",
            "1. Database Management Systems\n",
            "2. PHP\n",
            "3. JavaScript\n",
            "4. Python\n",
            "5. Artificial Intelligence\n",
            "6. Cyber Security\n",
            "7. Computer Vision\n",
            "8. DevOps\n",
            "9. Full Stack Developer\n",
            "10. Web Development\n",
            "11. Backend Developement\n",
            "12. Data Analytics\n",
            "13. Blockchain\n",
            "14. Natural Language Processing\n",
            "15. Mobile App Development\n",
            "16. C++\n",
            "17. Cloud Computing\n",
            "18. Ruby\n",
            "19. Frontend Development\n",
            "20. R\n",
            "21. Data Science\n",
            "22. Robotics\n",
            "23. Java\n",
            "24. Machine Learning\n",
            "25. Game Development\n",
            "26. Software Engineering\n",
            "Enter the number corresponding to your skill: 5\n",
            "\n",
            "Recommended users: ['Yash' 'Kavya' 'Rohan' 'Sanjay']\n"
          ]
        }
      ]
    },
    {
      "cell_type": "code",
      "source": [],
      "metadata": {
        "id": "JgjBlJEC59_B"
      },
      "execution_count": null,
      "outputs": []
    }
  ]
}